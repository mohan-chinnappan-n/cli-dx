{
  "nbformat": 4,
  "nbformat_minor": 0,
  "metadata": {
    "colab": {
      "name": "BulkAPI2-update",
      "provenance": []
    },
    "kernelspec": {
      "name": "python3",
      "display_name": "Python 3"
    },
    "language_info": {
      "name": "python"
    }
  },
  "cells": [
    {
      "cell_type": "markdown",
      "metadata": {
        "id": "s8Tj6kl4OYol"
      },
      "source": [
        "## Prepare the Data file for Account phone update"
      ]
    },
    {
      "cell_type": "code",
      "metadata": {
        "id": "XNwNFYQD_tVz"
      },
      "source": [
        "csv_url = 'https://raw.githubusercontent.com/mohan-chinnappan-n/cli-dx/master/data/accounts-update.csv'\n",
        "import pandas as pd\n"
      ],
      "execution_count": 29,
      "outputs": []
    },
    {
      "cell_type": "code",
      "metadata": {
        "id": "gweF6q5uAqK3"
      },
      "source": [
        "csv = pd.read_csv(csv_url,index_col=0)"
      ],
      "execution_count": 30,
      "outputs": []
    },
    {
      "cell_type": "code",
      "metadata": {
        "colab": {
          "base_uri": "https://localhost:8080/",
          "height": 204
        },
        "id": "1wawXuSIA_w3",
        "outputId": "d6774dd9-246f-480e-836b-04aa193b9a51"
      },
      "source": [
        "csv.head()\n"
      ],
      "execution_count": 31,
      "outputs": [
        {
          "output_type": "execute_result",
          "data": {
            "text/html": [
              "<div>\n",
              "<style scoped>\n",
              "    .dataframe tbody tr th:only-of-type {\n",
              "        vertical-align: middle;\n",
              "    }\n",
              "\n",
              "    .dataframe tbody tr th {\n",
              "        vertical-align: top;\n",
              "    }\n",
              "\n",
              "    .dataframe thead th {\n",
              "        text-align: right;\n",
              "    }\n",
              "</style>\n",
              "<table border=\"1\" class=\"dataframe\">\n",
              "  <thead>\n",
              "    <tr style=\"text-align: right;\">\n",
              "      <th></th>\n",
              "      <th>Phone</th>\n",
              "    </tr>\n",
              "    <tr>\n",
              "      <th>Id</th>\n",
              "      <th></th>\n",
              "    </tr>\n",
              "  </thead>\n",
              "  <tbody>\n",
              "    <tr>\n",
              "      <th>0013h00000Ffg19AAB</th>\n",
              "      <td>881-222-2344</td>\n",
              "    </tr>\n",
              "    <tr>\n",
              "      <th>0013h00000Ffg1AAAR</th>\n",
              "      <td>882-222-2344</td>\n",
              "    </tr>\n",
              "    <tr>\n",
              "      <th>0013h00000Ffg1BAAR</th>\n",
              "      <td>883-222-2344</td>\n",
              "    </tr>\n",
              "    <tr>\n",
              "      <th>0013h00000Ffg1CAAR</th>\n",
              "      <td>884-222-2344</td>\n",
              "    </tr>\n",
              "  </tbody>\n",
              "</table>\n",
              "</div>"
            ],
            "text/plain": [
              "                           Phone\n",
              "Id                              \n",
              "0013h00000Ffg19AAB  881-222-2344\n",
              "0013h00000Ffg1AAAR  882-222-2344\n",
              "0013h00000Ffg1BAAR  883-222-2344\n",
              "0013h00000Ffg1CAAR  884-222-2344"
            ]
          },
          "metadata": {},
          "execution_count": 31
        }
      ]
    },
    {
      "cell_type": "code",
      "metadata": {
        "id": "cT7Cf02QJ7VW"
      },
      "source": [
        ""
      ],
      "execution_count": null,
      "outputs": []
    },
    {
      "cell_type": "code",
      "metadata": {
        "colab": {
          "base_uri": "https://localhost:8080/",
          "height": 35
        },
        "id": "50BGnPqGBOX6",
        "outputId": "2c536196-9bf9-4008-d820-3e99acf400c1"
      },
      "source": [
        "data = csv.to_csv()\n",
        "data"
      ],
      "execution_count": 38,
      "outputs": [
        {
          "output_type": "execute_result",
          "data": {
            "application/vnd.google.colaboratory.intrinsic+json": {
              "type": "string"
            },
            "text/plain": [
              "'Id,Phone\\n0013h00000Ffg19AAB,881-222-2344\\n0013h00000Ffg1AAAR,882-222-2344\\n0013h00000Ffg1BAAR,883-222-2344\\n0013h00000Ffg1CAAR,884-222-2344\\n'"
            ]
          },
          "metadata": {},
          "execution_count": 38
        }
      ]
    },
    {
      "cell_type": "markdown",
      "metadata": {
        "id": "n6b3jLlwOhJa"
      },
      "source": [
        "## Install Required libs"
      ]
    },
    {
      "cell_type": "code",
      "metadata": {
        "colab": {
          "base_uri": "https://localhost:8080/"
        },
        "id": "ZZeDmNXaFLDn",
        "outputId": "06d41026-2c6c-4cd1-e14d-4228a2979f90"
      },
      "source": [
        "!pip install sfbulk2\n",
        "!pip install Faker"
      ],
      "execution_count": 48,
      "outputs": [
        {
          "output_type": "stream",
          "name": "stdout",
          "text": [
            "Requirement already satisfied: sfbulk2 in /usr/local/lib/python3.7/dist-packages (0.7.2)\n",
            "Requirement already satisfied: Faker in /usr/local/lib/python3.7/dist-packages (8.12.1)\n",
            "Requirement already satisfied: python-dateutil>=2.4 in /usr/local/lib/python3.7/dist-packages (from Faker) (2.8.2)\n",
            "Requirement already satisfied: text-unidecode==1.3 in /usr/local/lib/python3.7/dist-packages (from Faker) (1.3)\n",
            "Requirement already satisfied: six>=1.5 in /usr/local/lib/python3.7/dist-packages (from python-dateutil>=2.4->Faker) (1.15.0)\n"
          ]
        }
      ]
    },
    {
      "cell_type": "markdown",
      "metadata": {
        "id": "bxmGfpv4OsaE"
      },
      "source": [
        "## Get access token and instance url using DX\n",
        "```\n",
        "sfdx force:auth:web:login\n",
        "Successfully authorized mohan.chinnappan.n_ea2@gmail.com with org ID 00D3h000007R1LuEAK\n",
        "``` \n",
        "\n",
        "```\n",
        "sfdx mohanc:hello:myorg -u mohan.chinnappan.n_ea2@gmail.com\n",
        "```\n",
        "```json\n",
        "{\n",
        "    \"Content-Type\": \"application/json\",\n",
        "    \"Authorization\": \"Bearer 00D3h000007R1Lu!AR0AQLJugFTl_.Fp5HVGH39XOOvP2ldz9AG6Bbw.VggjQreqdbbmbxqhafEDlwRa0wr38CTFBhTJTXjwqCJDPMaETSFXWTZM\",\n",
        "    \"apiVersion\": \"52.0\",\n",
        "    \"instanceUrl\": \"https://mohansun-ea-02-dev-ed.my.salesforce.com\",\n",
        "    \"restAPIUri\": \"https://mohansun-ea-02-dev-ed.my.salesforce.com/services/data/v52.0/\"\n",
        "}\n",
        "\n",
        "```"
      ]
    },
    {
      "cell_type": "code",
      "metadata": {
        "id": "ZC8SUCoKF9P4"
      },
      "source": [
        "access_token = '00D3h000007R1Lu!AR0AQLJugFTl_.Fp5HVGH39XOOvP2ldz9AG6Bbw.VggjQreqdbbmbxqhafEDlwRa0wr38CTFBhTJTXjwqCJDPMaETSFXWTZM'\n",
        "instance_url = \"https://mohansun-ea-02-dev-ed.my.salesforce.com\""
      ],
      "execution_count": 17,
      "outputs": []
    },
    {
      "cell_type": "code",
      "metadata": {
        "id": "HQEZLra6FVS1"
      },
      "source": [
        "## let import the SFBulk2 to get the sfbulk2\n",
        "from sfbulk2 import SFBulk2"
      ],
      "execution_count": 49,
      "outputs": []
    },
    {
      "cell_type": "code",
      "metadata": {
        "colab": {
          "base_uri": "https://localhost:8080/"
        },
        "id": "VRjXOWWkGpNv",
        "outputId": "f02c88d7-3352-4b2b-ca15-2036713b71a9"
      },
      "source": [
        "sfba2 = SFBulk2(access_token=access_token, instance_url=instance_url, api_version='v51.0')"
      ],
      "execution_count": 20,
      "outputs": [
        {
          "output_type": "stream",
          "name": "stdout",
          "text": [
            "api_version: v51.0\n"
          ]
        }
      ]
    },
    {
      "cell_type": "markdown",
      "metadata": {
        "id": "CHMefYz1PWgM"
      },
      "source": [
        "## Create Update Job\n"
      ]
    },
    {
      "cell_type": "code",
      "metadata": {
        "colab": {
          "base_uri": "https://localhost:8080/"
        },
        "id": "7-LlG2KuKi7h",
        "outputId": "668cf6aa-6868-4a09-b4f4-ba5cf50f3b88"
      },
      "source": [
        "update_job_id = sfba2.create_job(operation='update',obj='Account')"
      ],
      "execution_count": 33,
      "outputs": [
        {
          "output_type": "stream",
          "name": "stdout",
          "text": [
            "headers: {'Authorization': 'Bearer 00D3h000007R1Lu!AR0AQLJugFTl_.Fp5HVGH39XOOvP2ldz9AG6Bbw.VggjQreqdbbmbxqhafEDlwRa0wr38CTFBhTJTXjwqCJDPMaETSFXWTZM', 'Content-Type': 'application/json;charset=UTF-8', 'Accept': 'application/json'}\n",
            "body: {'object': 'Account', 'contentType': 'CSV', 'operation': 'update', 'lineEnding': 'LF'}\n",
            "uri: https://mohansun-ea-02-dev-ed.my.salesforce.com/services/data/v51.0/jobs/ingest/\n",
            "job_id: 7503h00000CV5Q0AAL\n"
          ]
        }
      ]
    },
    {
      "cell_type": "markdown",
      "metadata": {
        "id": "tDXuQiCmPf84"
      },
      "source": [
        "## Let us get the job status and ContentUrl"
      ]
    },
    {
      "cell_type": "markdown",
      "metadata": {
        "id": "dRqQudQyLCSU"
      },
      "source": [
        ""
      ]
    },
    {
      "cell_type": "code",
      "metadata": {
        "colab": {
          "base_uri": "https://localhost:8080/"
        },
        "id": "ij9-YzKTKx5Y",
        "outputId": "c0bc94a1-0f18-43e2-fa83-67315313cca7"
      },
      "source": [
        "update_res = sfba2.get_job_status(job_id=update_job_id, optype='ingest')"
      ],
      "execution_count": 34,
      "outputs": [
        {
          "output_type": "stream",
          "name": "stdout",
          "text": [
            "uri: https://mohansun-ea-02-dev-ed.my.salesforce.com/services/data/v51.0/jobs/ingest/7503h00000CV5Q0AAL\n"
          ]
        }
      ]
    },
    {
      "cell_type": "code",
      "metadata": {
        "id": "msTtGEw6LERV"
      },
      "source": [
        "contentUrl = update_res.json()['contentUrl']"
      ],
      "execution_count": 36,
      "outputs": []
    },
    {
      "cell_type": "code",
      "metadata": {
        "colab": {
          "base_uri": "https://localhost:8080/",
          "height": 35
        },
        "id": "wGqa4EJQLdns",
        "outputId": "f3b40a2d-71e6-4ce6-c9f1-52ee8e35bee9"
      },
      "source": [
        "contentUrl"
      ],
      "execution_count": 37,
      "outputs": [
        {
          "output_type": "execute_result",
          "data": {
            "application/vnd.google.colaboratory.intrinsic+json": {
              "type": "string"
            },
            "text/plain": [
              "'services/data/v51.0/jobs/ingest/7503h00000CV5Q0AAL/batches'"
            ]
          },
          "metadata": {},
          "execution_count": 37
        }
      ]
    },
    {
      "cell_type": "markdown",
      "metadata": {
        "id": "20IIuPmOPsUB"
      },
      "source": [
        "## Put our input update data"
      ]
    },
    {
      "cell_type": "code",
      "metadata": {
        "colab": {
          "base_uri": "https://localhost:8080/"
        },
        "id": "XHEZT6q9LsuI",
        "outputId": "10016010-c977-4c15-bc3b-239c7e3ed153"
      },
      "source": [
        "put_res = sfba2.put_data(contentUrl=contentUrl,data=data)"
      ],
      "execution_count": 39,
      "outputs": [
        {
          "output_type": "stream",
          "name": "stdout",
          "text": [
            "https://mohansun-ea-02-dev-ed.my.salesforce.com/services/data/v51.0/jobs/ingest/7503h00000CV5Q0AAL/batches\n"
          ]
        }
      ]
    },
    {
      "cell_type": "code",
      "metadata": {
        "colab": {
          "base_uri": "https://localhost:8080/"
        },
        "id": "KICCVeDwL8nG",
        "outputId": "9ba0fad0-2e82-45e5-e02d-caf60d41c7b7"
      },
      "source": [
        "put_res.content"
      ],
      "execution_count": 41,
      "outputs": [
        {
          "output_type": "execute_result",
          "data": {
            "text/plain": [
              "b''"
            ]
          },
          "metadata": {},
          "execution_count": 41
        }
      ]
    },
    {
      "cell_type": "markdown",
      "metadata": {
        "id": "mE2dY5B0PxXG"
      },
      "source": [
        "## Get Update job status"
      ]
    },
    {
      "cell_type": "code",
      "metadata": {
        "colab": {
          "base_uri": "https://localhost:8080/"
        },
        "id": "dzDOo4cHMIOG",
        "outputId": "68392a3e-0d3f-4ebe-a0ed-f711e1c8df32"
      },
      "source": [
        "sfba2.get_job_status(job_id=update_job_id, optype='ingest').json()"
      ],
      "execution_count": 42,
      "outputs": [
        {
          "output_type": "stream",
          "name": "stdout",
          "text": [
            "uri: https://mohansun-ea-02-dev-ed.my.salesforce.com/services/data/v51.0/jobs/ingest/7503h00000CV5Q0AAL\n"
          ]
        },
        {
          "output_type": "execute_result",
          "data": {
            "text/plain": [
              "{'apexProcessingTime': 0,\n",
              " 'apiActiveProcessingTime': 0,\n",
              " 'apiVersion': 51.0,\n",
              " 'columnDelimiter': 'COMMA',\n",
              " 'concurrencyMode': 'Parallel',\n",
              " 'contentType': 'CSV',\n",
              " 'contentUrl': 'services/data/v51.0/jobs/ingest/7503h00000CV5Q0AAL/batches',\n",
              " 'createdById': '0053h000002xQ5sAAE',\n",
              " 'createdDate': '2021-08-30T22:25:38.000+0000',\n",
              " 'id': '7503h00000CV5Q0AAL',\n",
              " 'jobType': 'V2Ingest',\n",
              " 'lineEnding': 'LF',\n",
              " 'numberRecordsFailed': 0,\n",
              " 'numberRecordsProcessed': 0,\n",
              " 'object': 'Account',\n",
              " 'operation': 'update',\n",
              " 'retries': 0,\n",
              " 'state': 'Open',\n",
              " 'systemModstamp': '2021-08-30T22:25:38.000+0000',\n",
              " 'totalProcessingTime': 0}"
            ]
          },
          "metadata": {},
          "execution_count": 42
        }
      ]
    },
    {
      "cell_type": "markdown",
      "metadata": {
        "id": "sj25y6IeP9Lk"
      },
      "source": [
        "## Patch it to mark Upload Complete"
      ]
    },
    {
      "cell_type": "code",
      "metadata": {
        "colab": {
          "base_uri": "https://localhost:8080/"
        },
        "id": "nLGvYL9JMYrf",
        "outputId": "d1c559a0-13d8-422a-90c8-b262ce14b6bd"
      },
      "source": [
        "sfba2.patch_state(job_id=update_job_id, state='UploadComplete').json()"
      ],
      "execution_count": 43,
      "outputs": [
        {
          "output_type": "stream",
          "name": "stdout",
          "text": [
            "uri: https://mohansun-ea-02-dev-ed.my.salesforce.com/services/data/v51.0/jobs/ingest/7503h00000CV5Q0AAL\n"
          ]
        },
        {
          "output_type": "execute_result",
          "data": {
            "text/plain": [
              "{'apiVersion': 51.0,\n",
              " 'concurrencyMode': 'Parallel',\n",
              " 'contentType': 'CSV',\n",
              " 'createdById': '0053h000002xQ5sAAE',\n",
              " 'createdDate': '2021-08-30T22:25:38.000+0000',\n",
              " 'id': '7503h00000CV5Q0AAL',\n",
              " 'object': 'Account',\n",
              " 'operation': 'update',\n",
              " 'state': 'UploadComplete',\n",
              " 'systemModstamp': '2021-08-30T22:25:38.000+0000'}"
            ]
          },
          "metadata": {},
          "execution_count": 43
        }
      ]
    },
    {
      "cell_type": "markdown",
      "metadata": {
        "id": "RBCsWEMxQGWd"
      },
      "source": [
        "## Get Update Job Status"
      ]
    },
    {
      "cell_type": "code",
      "metadata": {
        "colab": {
          "base_uri": "https://localhost:8080/"
        },
        "id": "h6RvDWI7MtGP",
        "outputId": "955667e8-2d2f-42c4-c053-10c3352f0f48"
      },
      "source": [
        "sfba2.get_job_status(job_id=update_job_id, optype='ingest').json()"
      ],
      "execution_count": 44,
      "outputs": [
        {
          "output_type": "stream",
          "name": "stdout",
          "text": [
            "uri: https://mohansun-ea-02-dev-ed.my.salesforce.com/services/data/v51.0/jobs/ingest/7503h00000CV5Q0AAL\n"
          ]
        },
        {
          "output_type": "execute_result",
          "data": {
            "text/plain": [
              "{'apexProcessingTime': 0,\n",
              " 'apiActiveProcessingTime': 124,\n",
              " 'apiVersion': 51.0,\n",
              " 'columnDelimiter': 'COMMA',\n",
              " 'concurrencyMode': 'Parallel',\n",
              " 'contentType': 'CSV',\n",
              " 'createdById': '0053h000002xQ5sAAE',\n",
              " 'createdDate': '2021-08-30T22:25:38.000+0000',\n",
              " 'id': '7503h00000CV5Q0AAL',\n",
              " 'jobType': 'V2Ingest',\n",
              " 'lineEnding': 'LF',\n",
              " 'numberRecordsFailed': 0,\n",
              " 'numberRecordsProcessed': 4,\n",
              " 'object': 'Account',\n",
              " 'operation': 'update',\n",
              " 'retries': 0,\n",
              " 'state': 'JobComplete',\n",
              " 'systemModstamp': '2021-08-30T22:33:57.000+0000',\n",
              " 'totalProcessingTime': 250}"
            ]
          },
          "metadata": {},
          "execution_count": 44
        }
      ]
    },
    {
      "cell_type": "markdown",
      "metadata": {
        "id": "BZ_vDspAQKoG"
      },
      "source": [
        "## Let us test to verify our update"
      ]
    },
    {
      "cell_type": "code",
      "metadata": {
        "colab": {
          "base_uri": "https://localhost:8080/",
          "height": 86
        },
        "id": "d_drnnUtNZ5P",
        "outputId": "8d5df4e1-c69e-426b-d342-a09de37df9a4"
      },
      "source": [
        "soql = 'SELECT Id,Name, Phone from Account LIMIT 5'\n",
        "query_job_id = sfba2.create_query_job(query=soql)\n",
        "query_job_id"
      ],
      "execution_count": 45,
      "outputs": [
        {
          "output_type": "stream",
          "name": "stdout",
          "text": [
            "body: {'operation': 'query', 'query': 'SELECT Id,Name, Phone from Account LIMIT 5', 'contentType': 'CSV', 'columnDelimiter': 'COMMA', 'lineEnding': 'LF'}\n",
            "uri: https://mohansun-ea-02-dev-ed.my.salesforce.com/services/data/v51.0/jobs/query\n",
            "job_id: 7503h00000CV5WvAAL\n"
          ]
        },
        {
          "output_type": "execute_result",
          "data": {
            "application/vnd.google.colaboratory.intrinsic+json": {
              "type": "string"
            },
            "text/plain": [
              "'7503h00000CV5WvAAL'"
            ]
          },
          "metadata": {},
          "execution_count": 45
        }
      ]
    },
    {
      "cell_type": "code",
      "metadata": {
        "id": "kfgLs5eMNtZq"
      },
      "source": [
        "query_results = sfba2.get_query_results(job_id=query_job_id)"
      ],
      "execution_count": 46,
      "outputs": []
    },
    {
      "cell_type": "code",
      "metadata": {
        "colab": {
          "base_uri": "https://localhost:8080/"
        },
        "id": "nv3qRCEmOCer",
        "outputId": "31e2acb2-43b2-401c-f316-1a3c87e82e44"
      },
      "source": [
        "query_results.text.split('\\n')"
      ],
      "execution_count": 47,
      "outputs": [
        {
          "output_type": "execute_result",
          "data": {
            "text/plain": [
              "['\"Id\",\"Name\",\"Phone\"',\n",
              " '\"0013h00000Ffg18AAB\",\"Boone625 Inc\",\"\"',\n",
              " '\"0013h00000Ffg19AAB\",\"Rodriquez626 Inc\",\"881-222-2344\"',\n",
              " '\"0013h00000Ffg1AAAR\",\"Hale627 Inc\",\"882-222-2344\"',\n",
              " '\"0013h00000Ffg1BAAR\",\"Stokes628 Inc\",\"883-222-2344\"',\n",
              " '\"0013h00000Ffg1CAAR\",\"Edwards629 Inc\",\"884-222-2344\"',\n",
              " '']"
            ]
          },
          "metadata": {},
          "execution_count": 47
        }
      ]
    },
    {
      "cell_type": "markdown",
      "metadata": {
        "id": "CrWkN3xXOWiu"
      },
      "source": [
        ""
      ]
    }
  ]
}
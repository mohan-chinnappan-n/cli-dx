{
  "nbformat": 4,
  "nbformat_minor": 0,
  "metadata": {
    "colab": {
      "name": "BulkAPI2-update",
      "provenance": []
    },
    "kernelspec": {
      "name": "python3",
      "display_name": "Python 3"
    },
    "language_info": {
      "name": "python"
    }
  },
  "cells": [
    {
      "cell_type": "markdown",
      "metadata": {
        "id": "s8Tj6kl4OYol"
      },
      "source": [
        ""
      ]
    },
    {
      "cell_type": "markdown",
      "metadata": {
        "id": "Xh-MsTmAl9Nb"
      },
      "source": [
        "# BulkAPI 2.0 - Update operation"
      ]
    },
    {
      "cell_type": "markdown",
      "metadata": {
        "id": "-Z9ZEz49mOrt"
      },
      "source": [
        "## Install required libs"
      ]
    },
    {
      "cell_type": "code",
      "metadata": {
        "colab": {
          "base_uri": "https://localhost:8080/"
        },
        "id": "LRHZS3BUmL-Q",
        "outputId": "52b68c5e-9ece-4bee-a8ac-cd15034a410b"
      },
      "source": [
        "!pip install sfbulk2\n",
        "!pip install Faker"
      ],
      "execution_count": 1,
      "outputs": [
        {
          "output_type": "stream",
          "name": "stdout",
          "text": [
            "Requirement already satisfied: sfbulk2 in /usr/local/lib/python3.7/dist-packages (0.7.2)\n",
            "Requirement already satisfied: Faker in /usr/local/lib/python3.7/dist-packages (8.12.1)\n",
            "Requirement already satisfied: text-unidecode==1.3 in /usr/local/lib/python3.7/dist-packages (from Faker) (1.3)\n",
            "Requirement already satisfied: python-dateutil>=2.4 in /usr/local/lib/python3.7/dist-packages (from Faker) (2.8.2)\n",
            "Requirement already satisfied: six>=1.5 in /usr/local/lib/python3.7/dist-packages (from python-dateutil>=2.4->Faker) (1.15.0)\n"
          ]
        }
      ]
    },
    {
      "cell_type": "markdown",
      "metadata": {
        "id": "MS32-GqxmK30"
      },
      "source": [
        ""
      ]
    },
    {
      "cell_type": "markdown",
      "metadata": {
        "id": "6vbI8oHqmml4"
      },
      "source": [
        "## Get access token and instance url using DX\n",
        "```\n",
        "sfdx force:auth:web:login\n",
        "```\n",
        "```\n",
        "Successfully authorized mohan.chinnappan.n_ea2@gmail.com with org ID 00D3h000007R1LuEAK\n",
        "```\n",
        "```\n",
        "sfdx mohanc:hello:myorg -u mohan.chinnappan.n_ea2@gmail.com\n",
        "```\n",
        "\n",
        "```\n",
        "{\n",
        "    \"Content-Type\": \"application/json\",\n",
        "    \"Authorization\": \"Bearer 00D3h000007R1Lu!AR0AQLJugFTl_.Fp5HVGH39XOOvP2ldz9AG6Bbw.VggjQreqdbbmbxqhafEDlwRa0wr38CTFBhTJTXjwqCJDPMaETSFXWTZM\",\n",
        "    \"apiVersion\": \"52.0\",\n",
        "    \"instanceUrl\": \"https://mohansun-ea-02-dev-ed.my.salesforce.com\",\n",
        "    \"restAPIUri\": \"https://mohansun-ea-02-dev-ed.my.salesforce.com/services/data/v52.0/\"\n",
        "}\n",
        "```\n",
        " "
      ]
    },
    {
      "cell_type": "code",
      "metadata": {
        "id": "K9OSAH_UmhGU"
      },
      "source": [
        "access_token = '00D3h000007R1Lu!AR0AQCU7eWWR7d2qJ6x6A4ZgZkLo0c6XGCrs4JmKroSB57wA8Tfjc4uispqT654xftETzR7v04t0JSWYaZ4.1Jzb0CE.pnbj'\n",
        "instance_url = \"https://mohansun-ea-02-dev-ed.my.salesforce.com\""
      ],
      "execution_count": 2,
      "outputs": []
    },
    {
      "cell_type": "code",
      "metadata": {
        "colab": {
          "base_uri": "https://localhost:8080/"
        },
        "id": "qWmIxPLEnGlV",
        "outputId": "67a0fbfd-d3f1-4c28-8823-f0042bd0b443"
      },
      "source": [
        "## let import the SFBulk2 to get the sfbulk2\n",
        "from sfbulk2 import SFBulk2\n",
        "sfba2 = SFBulk2(access_token=access_token, instance_url=instance_url, api_version='v51.0')"
      ],
      "execution_count": 3,
      "outputs": [
        {
          "output_type": "stream",
          "name": "stdout",
          "text": [
            "api_version: v51.0\n"
          ]
        }
      ]
    },
    {
      "cell_type": "markdown",
      "metadata": {
        "id": "kKRfDSlYl3Dy"
      },
      "source": [
        "## Query the current phone nunbers for the account"
      ]
    },
    {
      "cell_type": "code",
      "metadata": {
        "colab": {
          "base_uri": "https://localhost:8080/"
        },
        "id": "IMY-wHMQlgre",
        "outputId": "1257afa3-7fea-4fc4-c994-6bbc45224339"
      },
      "source": [
        "soql = 'SELECT Id,Name, Phone from Account LIMIT 5'\n",
        "query_job_id = sfba2.create_query_job(query=soql)\n"
      ],
      "execution_count": 4,
      "outputs": [
        {
          "output_type": "stream",
          "name": "stdout",
          "text": [
            "body: {'operation': 'query', 'query': 'SELECT Id,Name, Phone from Account LIMIT 5', 'contentType': 'CSV', 'columnDelimiter': 'COMMA', 'lineEnding': 'LF'}\n",
            "uri: https://mohansun-ea-02-dev-ed.my.salesforce.com/services/data/v51.0/jobs/query\n",
            "job_id: 7503h00000CV6oWAAT\n"
          ]
        }
      ]
    },
    {
      "cell_type": "code",
      "metadata": {
        "colab": {
          "base_uri": "https://localhost:8080/"
        },
        "id": "ZMadOVTso5UK",
        "outputId": "00d537a5-0f87-4011-a891-57bb2e0780a7"
      },
      "source": [
        "query_results = sfba2.get_query_results(job_id=query_job_id)\n",
        "query_results.text.split('\\n')\n"
      ],
      "execution_count": 5,
      "outputs": [
        {
          "output_type": "execute_result",
          "data": {
            "text/plain": [
              "['\"Id\",\"Name\",\"Phone\"',\n",
              " '\"0013h00000Ffg18AAB\",\"Boone625 Inc\",\"\"',\n",
              " '\"0013h00000Ffg19AAB\",\"Rodriquez626 Inc\",\"881-222-2344\"',\n",
              " '\"0013h00000Ffg1AAAR\",\"Hale627 Inc\",\"882-222-2344\"',\n",
              " '\"0013h00000Ffg1BAAR\",\"Stokes628 Inc\",\"883-222-2344\"',\n",
              " '\"0013h00000Ffg1CAAR\",\"Edwards629 Inc\",\"884-222-2344\"',\n",
              " '']"
            ]
          },
          "metadata": {},
          "execution_count": 5
        }
      ]
    },
    {
      "cell_type": "markdown",
      "metadata": {
        "id": "JVG9H5TalzwP"
      },
      "source": [
        "## Prepare the Data file for Account phone update"
      ]
    },
    {
      "cell_type": "code",
      "metadata": {
        "id": "XNwNFYQD_tVz"
      },
      "source": [
        "\n",
        "csv_url = 'https://raw.githubusercontent.com/mohan-chinnappan-n/cli-dx/master/data/accounts-update-2.csv'\n",
        "import pandas as pd"
      ],
      "execution_count": 6,
      "outputs": []
    },
    {
      "cell_type": "code",
      "metadata": {
        "id": "gweF6q5uAqK3"
      },
      "source": [
        "csv = pd.read_csv(csv_url,index_col=0)"
      ],
      "execution_count": 7,
      "outputs": []
    },
    {
      "cell_type": "code",
      "metadata": {
        "colab": {
          "base_uri": "https://localhost:8080/",
          "height": 204
        },
        "id": "1wawXuSIA_w3",
        "outputId": "8ac63825-68e3-42a0-d1bb-05a98f8dda30"
      },
      "source": [
        "csv.head()"
      ],
      "execution_count": 8,
      "outputs": [
        {
          "output_type": "execute_result",
          "data": {
            "text/html": [
              "<div>\n",
              "<style scoped>\n",
              "    .dataframe tbody tr th:only-of-type {\n",
              "        vertical-align: middle;\n",
              "    }\n",
              "\n",
              "    .dataframe tbody tr th {\n",
              "        vertical-align: top;\n",
              "    }\n",
              "\n",
              "    .dataframe thead th {\n",
              "        text-align: right;\n",
              "    }\n",
              "</style>\n",
              "<table border=\"1\" class=\"dataframe\">\n",
              "  <thead>\n",
              "    <tr style=\"text-align: right;\">\n",
              "      <th></th>\n",
              "      <th>Phone</th>\n",
              "    </tr>\n",
              "    <tr>\n",
              "      <th>Id</th>\n",
              "      <th></th>\n",
              "    </tr>\n",
              "  </thead>\n",
              "  <tbody>\n",
              "    <tr>\n",
              "      <th>0013h00000Ffg19AAB</th>\n",
              "      <td>881-222-2391</td>\n",
              "    </tr>\n",
              "    <tr>\n",
              "      <th>0013h00000Ffg1AAAR</th>\n",
              "      <td>882-222-2392</td>\n",
              "    </tr>\n",
              "    <tr>\n",
              "      <th>0013h00000Ffg1BAAR</th>\n",
              "      <td>883-222-2393</td>\n",
              "    </tr>\n",
              "    <tr>\n",
              "      <th>0013h00000Ffg1CAAR</th>\n",
              "      <td>884-222-2394</td>\n",
              "    </tr>\n",
              "  </tbody>\n",
              "</table>\n",
              "</div>"
            ],
            "text/plain": [
              "                           Phone\n",
              "Id                              \n",
              "0013h00000Ffg19AAB  881-222-2391\n",
              "0013h00000Ffg1AAAR  882-222-2392\n",
              "0013h00000Ffg1BAAR  883-222-2393\n",
              "0013h00000Ffg1CAAR  884-222-2394"
            ]
          },
          "metadata": {},
          "execution_count": 8
        }
      ]
    },
    {
      "cell_type": "code",
      "metadata": {
        "id": "cT7Cf02QJ7VW"
      },
      "source": [
        ""
      ],
      "execution_count": null,
      "outputs": []
    },
    {
      "cell_type": "code",
      "metadata": {
        "colab": {
          "base_uri": "https://localhost:8080/",
          "height": 35
        },
        "id": "50BGnPqGBOX6",
        "outputId": "cde3a95f-cdd6-4307-89cc-8732969dc3f2"
      },
      "source": [
        "data = csv.to_csv()\n",
        "data"
      ],
      "execution_count": 14,
      "outputs": [
        {
          "output_type": "execute_result",
          "data": {
            "application/vnd.google.colaboratory.intrinsic+json": {
              "type": "string"
            },
            "text/plain": [
              "'Id,Phone\\n0013h00000Ffg19AAB,881-222-2391\\n0013h00000Ffg1AAAR,882-222-2392\\n0013h00000Ffg1BAAR,883-222-2393\\n0013h00000Ffg1CAAR,884-222-2394\\n'"
            ]
          },
          "metadata": {},
          "execution_count": 14
        }
      ]
    },
    {
      "cell_type": "markdown",
      "metadata": {
        "id": "CHMefYz1PWgM"
      },
      "source": [
        "## Create Update Job\n"
      ]
    },
    {
      "cell_type": "code",
      "metadata": {
        "colab": {
          "base_uri": "https://localhost:8080/"
        },
        "id": "7-LlG2KuKi7h",
        "outputId": "9fb5eb60-d9ae-4a7a-be8d-5d7d96746995"
      },
      "source": [
        "update_job_id = sfba2.create_job(operation='update',obj='Account')"
      ],
      "execution_count": 9,
      "outputs": [
        {
          "output_type": "stream",
          "name": "stdout",
          "text": [
            "headers: {'Authorization': 'Bearer 00D3h000007R1Lu!AR0AQCU7eWWR7d2qJ6x6A4ZgZkLo0c6XGCrs4JmKroSB57wA8Tfjc4uispqT654xftETzR7v04t0JSWYaZ4.1Jzb0CE.pnbj', 'Content-Type': 'application/json;charset=UTF-8', 'Accept': 'application/json'}\n",
            "body: {'object': 'Account', 'contentType': 'CSV', 'operation': 'update', 'lineEnding': 'LF'}\n",
            "uri: https://mohansun-ea-02-dev-ed.my.salesforce.com/services/data/v51.0/jobs/ingest/\n",
            "job_id: 7503h00000CV6pKAAT\n"
          ]
        }
      ]
    },
    {
      "cell_type": "markdown",
      "metadata": {
        "id": "tDXuQiCmPf84"
      },
      "source": [
        "## Let us get the job status and ContentUrl"
      ]
    },
    {
      "cell_type": "markdown",
      "metadata": {
        "id": "dRqQudQyLCSU"
      },
      "source": [
        ""
      ]
    },
    {
      "cell_type": "code",
      "metadata": {
        "colab": {
          "base_uri": "https://localhost:8080/"
        },
        "id": "ij9-YzKTKx5Y",
        "outputId": "3f96ca61-a128-479f-9e87-a9fa5109cdea"
      },
      "source": [
        "update_res = sfba2.get_job_status(job_id=update_job_id, optype='ingest')"
      ],
      "execution_count": 10,
      "outputs": [
        {
          "output_type": "stream",
          "name": "stdout",
          "text": [
            "uri: https://mohansun-ea-02-dev-ed.my.salesforce.com/services/data/v51.0/jobs/ingest/7503h00000CV6pKAAT\n"
          ]
        }
      ]
    },
    {
      "cell_type": "code",
      "metadata": {
        "id": "msTtGEw6LERV"
      },
      "source": [
        "contentUrl = update_res.json()['contentUrl']"
      ],
      "execution_count": 11,
      "outputs": []
    },
    {
      "cell_type": "code",
      "metadata": {
        "colab": {
          "base_uri": "https://localhost:8080/",
          "height": 35
        },
        "id": "wGqa4EJQLdns",
        "outputId": "0d787573-2390-475e-99d4-ac0749c1dde3"
      },
      "source": [
        "contentUrl"
      ],
      "execution_count": 12,
      "outputs": [
        {
          "output_type": "execute_result",
          "data": {
            "application/vnd.google.colaboratory.intrinsic+json": {
              "type": "string"
            },
            "text/plain": [
              "'services/data/v51.0/jobs/ingest/7503h00000CV6pKAAT/batches'"
            ]
          },
          "metadata": {},
          "execution_count": 12
        }
      ]
    },
    {
      "cell_type": "markdown",
      "metadata": {
        "id": "20IIuPmOPsUB"
      },
      "source": [
        "## Put our input update data"
      ]
    },
    {
      "cell_type": "code",
      "metadata": {
        "colab": {
          "base_uri": "https://localhost:8080/"
        },
        "id": "XHEZT6q9LsuI",
        "outputId": "8b3d02c9-3cd3-4872-f271-57c9bf0bf75a"
      },
      "source": [
        "put_res = sfba2.put_data(contentUrl=contentUrl,data=data)"
      ],
      "execution_count": 15,
      "outputs": [
        {
          "output_type": "stream",
          "name": "stdout",
          "text": [
            "https://mohansun-ea-02-dev-ed.my.salesforce.com/services/data/v51.0/jobs/ingest/7503h00000CV6pKAAT/batches\n"
          ]
        }
      ]
    },
    {
      "cell_type": "code",
      "metadata": {
        "colab": {
          "base_uri": "https://localhost:8080/"
        },
        "id": "KICCVeDwL8nG",
        "outputId": "9ba0fad0-2e82-45e5-e02d-caf60d41c7b7"
      },
      "source": [
        "put_res.content"
      ],
      "execution_count": 41,
      "outputs": [
        {
          "output_type": "execute_result",
          "data": {
            "text/plain": [
              "b''"
            ]
          },
          "metadata": {},
          "execution_count": 41
        }
      ]
    },
    {
      "cell_type": "markdown",
      "metadata": {
        "id": "mE2dY5B0PxXG"
      },
      "source": [
        "## Get Update job status"
      ]
    },
    {
      "cell_type": "code",
      "metadata": {
        "colab": {
          "base_uri": "https://localhost:8080/"
        },
        "id": "dzDOo4cHMIOG",
        "outputId": "8798b4c1-9ce4-4725-dea8-aaed64fa96e8"
      },
      "source": [
        "sfba2.get_job_status(job_id=update_job_id, optype='ingest').json()"
      ],
      "execution_count": 16,
      "outputs": [
        {
          "output_type": "stream",
          "name": "stdout",
          "text": [
            "uri: https://mohansun-ea-02-dev-ed.my.salesforce.com/services/data/v51.0/jobs/ingest/7503h00000CV6pKAAT\n"
          ]
        },
        {
          "output_type": "execute_result",
          "data": {
            "text/plain": [
              "{'apexProcessingTime': 0,\n",
              " 'apiActiveProcessingTime': 0,\n",
              " 'apiVersion': 51.0,\n",
              " 'columnDelimiter': 'COMMA',\n",
              " 'concurrencyMode': 'Parallel',\n",
              " 'contentType': 'CSV',\n",
              " 'contentUrl': 'services/data/v51.0/jobs/ingest/7503h00000CV6pKAAT/batches',\n",
              " 'createdById': '0053h000002xQ5sAAE',\n",
              " 'createdDate': '2021-08-31T00:42:11.000+0000',\n",
              " 'id': '7503h00000CV6pKAAT',\n",
              " 'jobType': 'V2Ingest',\n",
              " 'lineEnding': 'LF',\n",
              " 'numberRecordsFailed': 0,\n",
              " 'numberRecordsProcessed': 0,\n",
              " 'object': 'Account',\n",
              " 'operation': 'update',\n",
              " 'retries': 0,\n",
              " 'state': 'Open',\n",
              " 'systemModstamp': '2021-08-31T00:42:11.000+0000',\n",
              " 'totalProcessingTime': 0}"
            ]
          },
          "metadata": {},
          "execution_count": 16
        }
      ]
    },
    {
      "cell_type": "markdown",
      "metadata": {
        "id": "sj25y6IeP9Lk"
      },
      "source": [
        "## Patch it to mark Upload Complete"
      ]
    },
    {
      "cell_type": "code",
      "metadata": {
        "colab": {
          "base_uri": "https://localhost:8080/"
        },
        "id": "nLGvYL9JMYrf",
        "outputId": "e4ea9465-52b9-48cd-ee26-f8ec6e4a55db"
      },
      "source": [
        "sfba2.patch_state(job_id=update_job_id, state='UploadComplete').json()"
      ],
      "execution_count": 17,
      "outputs": [
        {
          "output_type": "stream",
          "name": "stdout",
          "text": [
            "uri: https://mohansun-ea-02-dev-ed.my.salesforce.com/services/data/v51.0/jobs/ingest/7503h00000CV6pKAAT\n"
          ]
        },
        {
          "output_type": "execute_result",
          "data": {
            "text/plain": [
              "{'apiVersion': 51.0,\n",
              " 'concurrencyMode': 'Parallel',\n",
              " 'contentType': 'CSV',\n",
              " 'createdById': '0053h000002xQ5sAAE',\n",
              " 'createdDate': '2021-08-31T00:42:11.000+0000',\n",
              " 'id': '7503h00000CV6pKAAT',\n",
              " 'object': 'Account',\n",
              " 'operation': 'update',\n",
              " 'state': 'UploadComplete',\n",
              " 'systemModstamp': '2021-08-31T00:42:11.000+0000'}"
            ]
          },
          "metadata": {},
          "execution_count": 17
        }
      ]
    },
    {
      "cell_type": "markdown",
      "metadata": {
        "id": "RBCsWEMxQGWd"
      },
      "source": [
        "## Get Update Job Status"
      ]
    },
    {
      "cell_type": "code",
      "metadata": {
        "colab": {
          "base_uri": "https://localhost:8080/"
        },
        "id": "h6RvDWI7MtGP",
        "outputId": "788a32cc-52f8-4dcb-d752-3c63eed60323"
      },
      "source": [
        "sfba2.get_job_status(job_id=update_job_id, optype='ingest').json()"
      ],
      "execution_count": 18,
      "outputs": [
        {
          "output_type": "stream",
          "name": "stdout",
          "text": [
            "uri: https://mohansun-ea-02-dev-ed.my.salesforce.com/services/data/v51.0/jobs/ingest/7503h00000CV6pKAAT\n"
          ]
        },
        {
          "output_type": "execute_result",
          "data": {
            "text/plain": [
              "{'apexProcessingTime': 0,\n",
              " 'apiActiveProcessingTime': 86,\n",
              " 'apiVersion': 51.0,\n",
              " 'columnDelimiter': 'COMMA',\n",
              " 'concurrencyMode': 'Parallel',\n",
              " 'contentType': 'CSV',\n",
              " 'createdById': '0053h000002xQ5sAAE',\n",
              " 'createdDate': '2021-08-31T00:42:11.000+0000',\n",
              " 'id': '7503h00000CV6pKAAT',\n",
              " 'jobType': 'V2Ingest',\n",
              " 'lineEnding': 'LF',\n",
              " 'numberRecordsFailed': 0,\n",
              " 'numberRecordsProcessed': 4,\n",
              " 'object': 'Account',\n",
              " 'operation': 'update',\n",
              " 'retries': 0,\n",
              " 'state': 'JobComplete',\n",
              " 'systemModstamp': '2021-08-31T00:43:11.000+0000',\n",
              " 'totalProcessingTime': 207}"
            ]
          },
          "metadata": {},
          "execution_count": 18
        }
      ]
    },
    {
      "cell_type": "markdown",
      "metadata": {
        "id": "BZ_vDspAQKoG"
      },
      "source": [
        "## Let us test to verify our update"
      ]
    },
    {
      "cell_type": "code",
      "metadata": {
        "colab": {
          "base_uri": "https://localhost:8080/",
          "height": 86
        },
        "id": "d_drnnUtNZ5P",
        "outputId": "8f30aff9-f91f-4a66-bd87-a25eecb8c811"
      },
      "source": [
        "soql = 'SELECT Id,Name, Phone from Account LIMIT 5'\n",
        "query_job_id = sfba2.create_query_job(query=soql)\n",
        "query_job_id"
      ],
      "execution_count": 19,
      "outputs": [
        {
          "output_type": "stream",
          "name": "stdout",
          "text": [
            "body: {'operation': 'query', 'query': 'SELECT Id,Name, Phone from Account LIMIT 5', 'contentType': 'CSV', 'columnDelimiter': 'COMMA', 'lineEnding': 'LF'}\n",
            "uri: https://mohansun-ea-02-dev-ed.my.salesforce.com/services/data/v51.0/jobs/query\n",
            "job_id: 7503h00000CV6q8AAD\n"
          ]
        },
        {
          "output_type": "execute_result",
          "data": {
            "application/vnd.google.colaboratory.intrinsic+json": {
              "type": "string"
            },
            "text/plain": [
              "'7503h00000CV6q8AAD'"
            ]
          },
          "metadata": {},
          "execution_count": 19
        }
      ]
    },
    {
      "cell_type": "code",
      "metadata": {
        "colab": {
          "base_uri": "https://localhost:8080/"
        },
        "id": "kfgLs5eMNtZq",
        "outputId": "8677148d-9b05-48c1-bfe1-251e2ed5504b"
      },
      "source": [
        "query_results = sfba2.get_query_results(job_id=query_job_id)\n",
        "query_results.text.split('\\n')"
      ],
      "execution_count": 20,
      "outputs": [
        {
          "output_type": "execute_result",
          "data": {
            "text/plain": [
              "['\"Id\",\"Name\",\"Phone\"',\n",
              " '\"0013h00000Ffg18AAB\",\"Boone625 Inc\",\"\"',\n",
              " '\"0013h00000Ffg19AAB\",\"Rodriquez626 Inc\",\"881-222-2391\"',\n",
              " '\"0013h00000Ffg1AAAR\",\"Hale627 Inc\",\"882-222-2392\"',\n",
              " '\"0013h00000Ffg1BAAR\",\"Stokes628 Inc\",\"883-222-2393\"',\n",
              " '\"0013h00000Ffg1CAAR\",\"Edwards629 Inc\",\"884-222-2394\"',\n",
              " '']"
            ]
          },
          "metadata": {},
          "execution_count": 20
        }
      ]
    },
    {
      "cell_type": "markdown",
      "metadata": {
        "id": "CrWkN3xXOWiu"
      },
      "source": [
        ""
      ]
    }
  ]
}